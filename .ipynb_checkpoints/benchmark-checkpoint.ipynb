{
 "cells": [
  {
   "cell_type": "code",
   "execution_count": 2,
   "metadata": {
    "collapsed": false
   },
   "outputs": [],
   "source": [
    "import pandas as pd\n",
    "import numpy as np\n",
    "import xgboost as xgb\n",
    "from sklearn import preprocessing\n",
    "from sklearn.cross_validation import train_test_split"
   ]
  },
  {
   "cell_type": "code",
   "execution_count": 3,
   "metadata": {
    "collapsed": true
   },
   "outputs": [],
   "source": [
    "# set seed\n",
    "seed = 260681"
   ]
  },
  {
   "cell_type": "code",
   "execution_count": 4,
   "metadata": {
    "collapsed": true
   },
   "outputs": [],
   "source": [
    "train = pd.read_csv(\"raw/train.csv\")\n",
    "test = pd.read_csv(\"raw/test.csv\")"
   ]
  },
  {
   "cell_type": "code",
   "execution_count": 20,
   "metadata": {
    "collapsed": false
   },
   "outputs": [
    {
     "data": {
      "text/html": [
       "<div>\n",
       "<table border=\"1\" class=\"dataframe\">\n",
       "  <thead>\n",
       "    <tr style=\"text-align: right;\">\n",
       "      <th></th>\n",
       "      <th>Field6</th>\n",
       "      <th>Field7</th>\n",
       "      <th>Field8</th>\n",
       "      <th>Field9</th>\n",
       "      <th>Field10</th>\n",
       "      <th>Field11</th>\n",
       "      <th>Field12</th>\n",
       "      <th>CoverageField1A</th>\n",
       "      <th>CoverageField1B</th>\n",
       "      <th>CoverageField2A</th>\n",
       "      <th>...</th>\n",
       "      <th>GeographicField60B</th>\n",
       "      <th>GeographicField61A</th>\n",
       "      <th>GeographicField61B</th>\n",
       "      <th>GeographicField62A</th>\n",
       "      <th>GeographicField62B</th>\n",
       "      <th>GeographicField63</th>\n",
       "      <th>GeographicField64</th>\n",
       "      <th>Year</th>\n",
       "      <th>Month</th>\n",
       "      <th>weekday</th>\n",
       "    </tr>\n",
       "  </thead>\n",
       "  <tbody>\n",
       "    <tr>\n",
       "      <th>0</th>\n",
       "      <td>1</td>\n",
       "      <td>23</td>\n",
       "      <td>0.9403</td>\n",
       "      <td>0.0006</td>\n",
       "      <td>7</td>\n",
       "      <td>1.0200</td>\n",
       "      <td>0</td>\n",
       "      <td>17</td>\n",
       "      <td>23</td>\n",
       "      <td>17</td>\n",
       "      <td>...</td>\n",
       "      <td>8</td>\n",
       "      <td>-1</td>\n",
       "      <td>18</td>\n",
       "      <td>-1</td>\n",
       "      <td>10</td>\n",
       "      <td>1</td>\n",
       "      <td>0</td>\n",
       "      <td>2013</td>\n",
       "      <td>8</td>\n",
       "      <td>4</td>\n",
       "    </tr>\n",
       "    <tr>\n",
       "      <th>1</th>\n",
       "      <td>5</td>\n",
       "      <td>7</td>\n",
       "      <td>1.0006</td>\n",
       "      <td>0.0040</td>\n",
       "      <td>4</td>\n",
       "      <td>1.2433</td>\n",
       "      <td>0</td>\n",
       "      <td>6</td>\n",
       "      <td>8</td>\n",
       "      <td>6</td>\n",
       "      <td>...</td>\n",
       "      <td>11</td>\n",
       "      <td>-1</td>\n",
       "      <td>17</td>\n",
       "      <td>-1</td>\n",
       "      <td>20</td>\n",
       "      <td>1</td>\n",
       "      <td>2</td>\n",
       "      <td>2014</td>\n",
       "      <td>4</td>\n",
       "      <td>1</td>\n",
       "    </tr>\n",
       "    <tr>\n",
       "      <th>2</th>\n",
       "      <td>5</td>\n",
       "      <td>7</td>\n",
       "      <td>1.0006</td>\n",
       "      <td>0.0040</td>\n",
       "      <td>4</td>\n",
       "      <td>1.2433</td>\n",
       "      <td>0</td>\n",
       "      <td>7</td>\n",
       "      <td>12</td>\n",
       "      <td>7</td>\n",
       "      <td>...</td>\n",
       "      <td>21</td>\n",
       "      <td>-1</td>\n",
       "      <td>11</td>\n",
       "      <td>-1</td>\n",
       "      <td>8</td>\n",
       "      <td>1</td>\n",
       "      <td>2</td>\n",
       "      <td>2014</td>\n",
       "      <td>8</td>\n",
       "      <td>0</td>\n",
       "    </tr>\n",
       "    <tr>\n",
       "      <th>3</th>\n",
       "      <td>6</td>\n",
       "      <td>10</td>\n",
       "      <td>0.9769</td>\n",
       "      <td>0.0004</td>\n",
       "      <td>1</td>\n",
       "      <td>1.2665</td>\n",
       "      <td>0</td>\n",
       "      <td>3</td>\n",
       "      <td>2</td>\n",
       "      <td>3</td>\n",
       "      <td>...</td>\n",
       "      <td>10</td>\n",
       "      <td>-1</td>\n",
       "      <td>9</td>\n",
       "      <td>-1</td>\n",
       "      <td>21</td>\n",
       "      <td>1</td>\n",
       "      <td>3</td>\n",
       "      <td>2013</td>\n",
       "      <td>4</td>\n",
       "      <td>0</td>\n",
       "    </tr>\n",
       "    <tr>\n",
       "      <th>4</th>\n",
       "      <td>4</td>\n",
       "      <td>23</td>\n",
       "      <td>0.9472</td>\n",
       "      <td>0.0006</td>\n",
       "      <td>3</td>\n",
       "      <td>1.3045</td>\n",
       "      <td>0</td>\n",
       "      <td>8</td>\n",
       "      <td>13</td>\n",
       "      <td>8</td>\n",
       "      <td>...</td>\n",
       "      <td>10</td>\n",
       "      <td>-1</td>\n",
       "      <td>11</td>\n",
       "      <td>-1</td>\n",
       "      <td>12</td>\n",
       "      <td>1</td>\n",
       "      <td>1</td>\n",
       "      <td>2014</td>\n",
       "      <td>1</td>\n",
       "      <td>5</td>\n",
       "    </tr>\n",
       "  </tbody>\n",
       "</table>\n",
       "<p>5 rows × 299 columns</p>\n",
       "</div>"
      ],
      "text/plain": [
       "   Field6  Field7  Field8  Field9  Field10  Field11  Field12  CoverageField1A  \\\n",
       "0       1      23  0.9403  0.0006        7   1.0200        0               17   \n",
       "1       5       7  1.0006  0.0040        4   1.2433        0                6   \n",
       "2       5       7  1.0006  0.0040        4   1.2433        0                7   \n",
       "3       6      10  0.9769  0.0004        1   1.2665        0                3   \n",
       "4       4      23  0.9472  0.0006        3   1.3045        0                8   \n",
       "\n",
       "   CoverageField1B  CoverageField2A   ...     GeographicField60B  \\\n",
       "0               23               17   ...                      8   \n",
       "1                8                6   ...                     11   \n",
       "2               12                7   ...                     21   \n",
       "3                2                3   ...                     10   \n",
       "4               13                8   ...                     10   \n",
       "\n",
       "   GeographicField61A  GeographicField61B  GeographicField62A  \\\n",
       "0                  -1                  18                  -1   \n",
       "1                  -1                  17                  -1   \n",
       "2                  -1                  11                  -1   \n",
       "3                  -1                   9                  -1   \n",
       "4                  -1                  11                  -1   \n",
       "\n",
       "   GeographicField62B  GeographicField63  GeographicField64  Year  Month  \\\n",
       "0                  10                  1                  0  2013      8   \n",
       "1                  20                  1                  2  2014      4   \n",
       "2                   8                  1                  2  2014      8   \n",
       "3                  21                  1                  3  2013      4   \n",
       "4                  12                  1                  1  2014      1   \n",
       "\n",
       "   weekday  \n",
       "0        4  \n",
       "1        1  \n",
       "2        0  \n",
       "3        0  \n",
       "4        5  \n",
       "\n",
       "[5 rows x 299 columns]"
      ]
     },
     "execution_count": 20,
     "metadata": {},
     "output_type": "execute_result"
    }
   ],
   "source": [
    "train.head()"
   ]
  },
  {
   "cell_type": "code",
   "execution_count": 6,
   "metadata": {
    "collapsed": true
   },
   "outputs": [],
   "source": [
    "y = train.QuoteConversion_Flag.values\n",
    "train = train.drop(['QuoteNumber', 'QuoteConversion_Flag'], axis=1)\n",
    "test = test.drop('QuoteNumber', axis=1)"
   ]
  },
  {
   "cell_type": "code",
   "execution_count": 7,
   "metadata": {
    "collapsed": true
   },
   "outputs": [],
   "source": [
    "# convert to datetime\n",
    "train['Date'] = pd.to_datetime(pd.Series(train['Original_Quote_Date']))\n",
    "train = train.drop('Original_Quote_Date', axis=1)\n",
    "test['Date'] = pd.to_datetime(pd.Series(test['Original_Quote_Date']))\n",
    "test = test.drop('Original_Quote_Date', axis=1)"
   ]
  },
  {
   "cell_type": "code",
   "execution_count": 9,
   "metadata": {
    "collapsed": true
   },
   "outputs": [],
   "source": [
    "# construct Year, Month and Weekday vars\n",
    "train['Year'] = train['Date'].apply(lambda x: int(str(x)[:4]))\n",
    "train['Month'] = train['Date'].apply(lambda x: int(str(x)[5:7]))\n",
    "train['weekday'] = train['Date'].dt.dayofweek\n",
    "test['Year'] = test['Date'].apply(lambda x: int(str(x)[:4]))\n",
    "test['Month'] = test['Date'].apply(lambda x: int(str(x)[5:7]))\n",
    "test['weekday'] = test['Date'].dt.dayofweek"
   ]
  },
  {
   "cell_type": "code",
   "execution_count": 11,
   "metadata": {
    "collapsed": true
   },
   "outputs": [],
   "source": [
    "train = train.drop('Date', axis=1)\n",
    "test = test.drop('Date', axis=1)"
   ]
  },
  {
   "cell_type": "code",
   "execution_count": 12,
   "metadata": {
    "collapsed": true
   },
   "outputs": [],
   "source": [
    "# take care of missing values\n",
    "train = train.fillna(-1)\n",
    "test = test.fillna(-1)"
   ]
  },
  {
   "cell_type": "code",
   "execution_count": 19,
   "metadata": {
    "collapsed": false
   },
   "outputs": [
    {
     "name": "stdout",
     "output_type": "stream",
     "text": [
      "Field6\n",
      "Field10\n",
      "Field12\n",
      "CoverageField8\n",
      "CoverageField9\n",
      "SalesField7\n",
      "PersonalField7\n",
      "PersonalField16\n",
      "PersonalField17\n",
      "PersonalField18\n",
      "PersonalField19\n",
      "PropertyField3\n",
      "PropertyField4\n",
      "PropertyField5\n",
      "PropertyField7\n",
      "PropertyField14\n",
      "PropertyField28\n",
      "PropertyField30\n",
      "PropertyField31\n",
      "PropertyField32\n",
      "PropertyField33\n",
      "PropertyField34\n",
      "PropertyField36\n",
      "PropertyField37\n",
      "PropertyField38\n",
      "GeographicField63\n",
      "GeographicField64\n"
     ]
    }
   ],
   "source": [
    "# Encode all categorical data\n",
    "for f in train.columns:\n",
    "    if train[f].dtype=='object':\n",
    "        print(f)\n",
    "        lbl = preprocessing.LabelEncoder()\n",
    "        lbl.fit(list(train[f].values) + list(test[f].values))\n",
    "        train[f] = lbl.transform(list(train[f].values))\n",
    "        test[f] = lbl.transform(list(test[f].values))"
   ]
  },
  {
   "cell_type": "code",
   "execution_count": 21,
   "metadata": {
    "collapsed": true
   },
   "outputs": [],
   "source": [
    "# define model\n",
    "clf = xgb.XGBClassifier(n_estimators=25,\n",
    "                        nthread=-1,\n",
    "                        max_depth=10,\n",
    "                        learning_rate=0.025,\n",
    "                        silent=True,\n",
    "                        subsample=0.8,\n",
    "                        colsample_bytree=0.8)"
   ]
  },
  {
   "cell_type": "code",
   "execution_count": 22,
   "metadata": {
    "collapsed": true
   },
   "outputs": [],
   "source": [
    "# fit model\n",
    "xgb_model = clf.fit(train, y, eval_metric=\"auc\")"
   ]
  },
  {
   "cell_type": "code",
   "execution_count": 23,
   "metadata": {
    "collapsed": true
   },
   "outputs": [],
   "source": [
    "preds = clf.predict_proba(test)[:,1]\n",
    "sample = pd.read_csv('raw/sample_submission.csv')\n",
    "sample.QuoteConversion_Flag = preds\n",
    "sample.to_csv('xgb_benchmark.csv', index=False)"
   ]
  },
  {
   "cell_type": "code",
   "execution_count": null,
   "metadata": {
    "collapsed": true
   },
   "outputs": [],
   "source": []
  }
 ],
 "metadata": {
  "kernelspec": {
   "display_name": "Python 2",
   "language": "python",
   "name": "python2"
  },
  "language_info": {
   "codemirror_mode": {
    "name": "ipython",
    "version": 2
   },
   "file_extension": ".py",
   "mimetype": "text/x-python",
   "name": "python",
   "nbconvert_exporter": "python",
   "pygments_lexer": "ipython2",
   "version": "2.7.10"
  }
 },
 "nbformat": 4,
 "nbformat_minor": 0
}
